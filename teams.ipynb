{
 "cells": [
  {
   "cell_type": "code",
   "execution_count": 18,
   "metadata": {},
   "outputs": [],
   "source": [
    "import requests\n",
    "import pandas as pd"
   ]
  },
  {
   "cell_type": "code",
   "execution_count": 36,
   "metadata": {},
   "outputs": [],
   "source": [
    "def getSeasons():\n",
    "\turl = \"https://api-football-beta.p.rapidapi.com/leagues/seasons\"\n",
    "\n",
    "\theaders = {\n",
    "\t\t\"X-RapidAPI-Key\": \"447225a4d6mshb59b87af2b61952p1a82c6jsnb05af10a2871\",\n",
    "\t\t\"X-RapidAPI-Host\": \"api-football-beta.p.rapidapi.com\"\n",
    "\t}\n",
    "\n",
    "\tresponse = requests.get(url, headers=headers)\n",
    "\tprint(response.json()['response'])"
   ]
  },
  {
   "cell_type": "code",
   "execution_count": 37,
   "metadata": {},
   "outputs": [
    {
     "name": "stdout",
     "output_type": "stream",
     "text": [
      "[2008, 2009, 2010, 2011, 2012, 2013, 2014, 2015, 2016, 2017, 2018, 2019, 2020, 2021, 2022, 2023, 2024, 2025, 2026]\n"
     ]
    }
   ],
   "source": [
    "getSeasons()"
   ]
  },
  {
   "cell_type": "code",
   "execution_count": null,
   "metadata": {},
   "outputs": [],
   "source": [
    "def getLeaguesFixtures(Seasons, League):\n",
    "    responses = dict()\n",
    "    for season in Seasons:\n",
    "        url = \"https://api-football-beta.p.rapidapi.com/fixtures\"\n",
    "\n",
    "        querystring = {\"season\":str(season),\"league\":str(League)}\n",
    "\n",
    "        headers = {\n",
    "\t        \"X-RapidAPI-Key\": \"447225a4d6mshb59b87af2b61952p1a82c6jsnb05af10a2871\",\n",
    "        \t\"X-RapidAPI-Host\": \"api-football-beta.p.rapidapi.com\"\n",
    "        }\n",
    "        \n",
    "        response = requests.get(url, headers=headers, params=querystring)\n",
    "        json_r = response.json()\n",
    "\n"
   ]
  },
  {
   "cell_type": "code",
   "execution_count": 19,
   "metadata": {},
   "outputs": [],
   "source": [
    "url = \"https://api-football-beta.p.rapidapi.com/fixtures\"\n",
    "\n",
    "querystring = {\"season\":\"2010\",\"league\":\"39\"}\n",
    "\n",
    "headers = {\n",
    "\t\"X-RapidAPI-Key\": \"447225a4d6mshb59b87af2b61952p1a82c6jsnb05af10a2871\",\n",
    "\t\"X-RapidAPI-Host\": \"api-football-beta.p.rapidapi.com\"\n",
    "}\n",
    "\n",
    "response = requests.get(url, headers=headers, params=querystring)\n",
    "json_r = response.json()"
   ]
  },
  {
   "cell_type": "code",
   "execution_count": 26,
   "metadata": {},
   "outputs": [],
   "source": [
    "PL_2010 = pd.json_normalize(json_r['response'], max_level=7)\n",
    "\n",
    "PL_2010.head()\n",
    "PL_2010.to_csv('PremierL_2010.csv', index=False)\n"
   ]
  }
 ],
 "metadata": {
  "kernelspec": {
   "display_name": "Python 3",
   "language": "python",
   "name": "python3"
  },
  "language_info": {
   "codemirror_mode": {
    "name": "ipython",
    "version": 3
   },
   "file_extension": ".py",
   "mimetype": "text/x-python",
   "name": "python",
   "nbconvert_exporter": "python",
   "pygments_lexer": "ipython3",
   "version": "3.12.0"
  }
 },
 "nbformat": 4,
 "nbformat_minor": 2
}
